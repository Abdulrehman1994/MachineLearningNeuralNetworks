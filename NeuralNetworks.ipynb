{
  "nbformat": 4,
  "nbformat_minor": 0,
  "metadata": {
    "colab": {
      "name": "NeuralNetworksSirBurhan.ipynb",
      "provenance": []
    },
    "kernelspec": {
      "name": "python3",
      "display_name": "Python 3"
    }
  },
  "cells": [
    {
      "cell_type": "code",
      "metadata": {
        "colab": {
          "base_uri": "https://localhost:8080/"
        },
        "id": "tnb21DNKOMYE",
        "outputId": "1e831b00-f5db-40e4-e6d7-ad9c1cc48775"
      },
      "source": [
        "\n",
        "from google.colab import drive\n",
        "#for accessing my google drive\n",
        "drive.mount('/content/drive')"
      ],
      "execution_count": null,
      "outputs": [
        {
          "output_type": "stream",
          "text": [
            "Mounted at /content/drive\n"
          ],
          "name": "stdout"
        }
      ]
    },
    {
      "cell_type": "code",
      "metadata": {
        "colab": {
          "base_uri": "https://localhost:8080/"
        },
        "id": "kGvJwk28RabM",
        "outputId": "cb1836cf-718d-4e2e-d3b8-c981a4308c37"
      },
      "source": [
        "import pandas\n",
        "from sklearn.neural_network import MLPClassifier\n",
        "from sklearn.preprocessing import StandardScaler\n",
        "from sklearn.ensemble import BaggingClassifier\n",
        "scale = StandardScaler()\n",
        "df = pandas.read_csv(\"/content/drive/My Drive/datasets_228_482_diabetes.csv\")\n",
        "x = df[['Pregnancies','Glucose','BloodPressure','SkinThickness','Insulin','BMI','DiabetesPedigreeFunction','Age']]\n",
        "y = df['Outcome']\n",
        "\n",
        "\n",
        "#classifier = MLPClassifier(solver='lbfgs', alpha=1e-5,hidden_layer_sizes=(8,8,8), random_state=1)\n",
        "classifier=BaggingClassifier(n_estimators=10, random_state=0).fit(x, y)\n",
        "bagging= BaggingClassifier(MLPClassifier(),max_samples=0.5,max_features=0.5)\n",
        "from sklearn.model_selection import train_test_split\n",
        "# Split dataset into training set and test set\n",
        "x_train, x_test, y_train, y_test = train_test_split(x, y, test_size=0.3, random_state=109) #70% training  \n",
        "\n",
        "\n",
        "from sklearn import svm, metrics\n",
        "\n",
        "classifier.fit(x_train, y_train)\n",
        "\n",
        "\n",
        "from sklearn import svm, metrics\n",
        "\n",
        "y_pred = classifier.predict(x_test)\n",
        "print(y_pred)\n",
        "print(\"Confusion matrix:\\n%s\" % metrics.confusion_matrix(y_test, y_pred))\n",
        "from sklearn.metrics import accuracy_score\n",
        "print(accuracy_score(y_test,y_pred)*100)"
      ],
      "execution_count": null,
      "outputs": [
        {
          "output_type": "stream",
          "text": [
            "[0 1 1 0 0 0 0 0 0 0 0 0 1 0 1 0 0 0 0 0 0 0 0 0 0 1 1 0 0 0 0 0 0 0 0 0 1\n",
            " 0 0 0 0 0 0 0 0 1 0 0 1 1 0 0 0 1 1 1 0 0 0 1 0 1 0 1 0 0 0 0 0 0 0 0 0 1\n",
            " 1 0 1 0 0 1 0 0 1 0 0 1 0 0 0 1 1 1 1 1 0 0 0 0 0 1 0 0 1 1 1 1 0 0 0 1 0\n",
            " 0 0 1 0 0 0 1 1 1 0 0 0 0 0 0 0 0 1 0 0 0 0 0 1 0 1 0 0 1 0 0 0 0 0 1 1 0\n",
            " 0 1 1 1 1 0 1 0 1 0 0 1 0 1 0 0 0 1 0 1 1 0 0 0 0 0 0 0 0 0 0 0 0 0 0 0 0\n",
            " 0 0 1 1 1 1 0 0 0 0 0 0 0 1 0 1 0 0 0 0 0 0 0 0 0 0 0 0 0 0 0 0 0 0 1 0 1\n",
            " 0 0 0 0 1 0 0 0 1]\n",
            "Confusion matrix:\n",
            "[[131  18]\n",
            " [ 36  46]]\n",
            "76.62337662337663\n"
          ],
          "name": "stdout"
        }
      ]
    }
  ]
}